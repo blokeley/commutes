{
 "cells": [
  {
   "cell_type": "markdown",
   "metadata": {},
   "source": [
    "# Commute time analysis\n",
    "\n",
    "I moved house and now have to drive to and from work.  Before moving, I had been told that the traffic is highly variable so I have been recording the start and stop times whenever I remember.  This notebook is a brief analysis of the commute times.\n",
    "\n",
    "Questions:\n",
    "\n",
    "1. Is the morning rush hour longer than other commutes?\n",
    "2. Is the morning rush hour drive longer on particular days?\n",
    "3. Has the rush hour commute changed over the months?\n",
    "4. Does leaving early help me get home early?\n",
    "5. Google maps can be used to predict the journey duration.  Is this prediction accurate?\n",
    "\n",
    "## Importing and formatting the data\n",
    "\n",
    "First, let's have a look at the raw CSV file."
   ]
  },
  {
   "cell_type": "code",
   "execution_count": 1,
   "metadata": {
    "collapsed": false
   },
   "outputs": [
    {
     "name": "stdout",
     "output_type": "stream",
     "text": [
      "date,prediction,start,stop,duration,day\n",
      "14/08/2015,,08:02:00,08:22:00,20,Fri\n",
      "25/08/2015,,18:16:00,18:27:00,11,Tue\n",
      "26/08/2015,,08:26:00,08:46:00,20,Wed\n",
      "26/08/2015,,18:28:00,18:46:00,18,Wed\n"
     ]
    }
   ],
   "source": [
    "with open('commutes.csv') as f:\n",
    "    for line_num, line in enumerate(f):\n",
    "        if line_num > 4:\n",
    "            break\n",
    "        print(line.strip())"
   ]
  },
  {
   "cell_type": "markdown",
   "metadata": {},
   "source": [
    "The `date` column is the date of the commute.\n",
    "\n",
    "The first few lines of the `prediction` column are empty, but later rows contain the duration in minutes as predicted by Google Maps.\n",
    "\n",
    "The `start` and `stop` are the times of the beginning and end of the commute.  The `duration` is the actual commute duration in minutes, and the `day` is the first 3 letters of the day of the week.\n",
    "\n",
    "Let's import the CSV data into the data analysis package pandas."
   ]
  },
  {
   "cell_type": "code",
   "execution_count": 2,
   "metadata": {
    "collapsed": false
   },
   "outputs": [
    {
     "data": {
      "text/html": [
       "<div>\n",
       "<table border=\"1\" class=\"dataframe\">\n",
       "  <thead>\n",
       "    <tr style=\"text-align: right;\">\n",
       "      <th></th>\n",
       "      <th>start_date</th>\n",
       "      <th>stop_date</th>\n",
       "      <th>prediction</th>\n",
       "      <th>duration</th>\n",
       "      <th>day</th>\n",
       "    </tr>\n",
       "  </thead>\n",
       "  <tbody>\n",
       "    <tr>\n",
       "      <th>0</th>\n",
       "      <td>2015-08-14 08:02:00</td>\n",
       "      <td>2015-08-14 08:22:00</td>\n",
       "      <td>NaN</td>\n",
       "      <td>20</td>\n",
       "      <td>Fri</td>\n",
       "    </tr>\n",
       "    <tr>\n",
       "      <th>1</th>\n",
       "      <td>2015-08-25 18:16:00</td>\n",
       "      <td>2015-08-25 18:27:00</td>\n",
       "      <td>NaN</td>\n",
       "      <td>11</td>\n",
       "      <td>Tue</td>\n",
       "    </tr>\n",
       "    <tr>\n",
       "      <th>2</th>\n",
       "      <td>2015-08-26 08:26:00</td>\n",
       "      <td>2015-08-26 08:46:00</td>\n",
       "      <td>NaN</td>\n",
       "      <td>20</td>\n",
       "      <td>Wed</td>\n",
       "    </tr>\n",
       "    <tr>\n",
       "      <th>3</th>\n",
       "      <td>2015-08-26 18:28:00</td>\n",
       "      <td>2015-08-26 18:46:00</td>\n",
       "      <td>NaN</td>\n",
       "      <td>18</td>\n",
       "      <td>Wed</td>\n",
       "    </tr>\n",
       "    <tr>\n",
       "      <th>4</th>\n",
       "      <td>2015-08-28 08:37:00</td>\n",
       "      <td>2015-08-28 08:52:00</td>\n",
       "      <td>NaN</td>\n",
       "      <td>15</td>\n",
       "      <td>Fri</td>\n",
       "    </tr>\n",
       "  </tbody>\n",
       "</table>\n",
       "</div>"
      ],
      "text/plain": [
       "           start_date           stop_date  prediction  duration  day\n",
       "0 2015-08-14 08:02:00 2015-08-14 08:22:00         NaN        20  Fri\n",
       "1 2015-08-25 18:16:00 2015-08-25 18:27:00         NaN        11  Tue\n",
       "2 2015-08-26 08:26:00 2015-08-26 08:46:00         NaN        20  Wed\n",
       "3 2015-08-26 18:28:00 2015-08-26 18:46:00         NaN        18  Wed\n",
       "4 2015-08-28 08:37:00 2015-08-28 08:52:00         NaN        15  Fri"
      ]
     },
     "execution_count": 2,
     "metadata": {},
     "output_type": "execute_result"
    }
   ],
   "source": [
    "import pandas as pd\n",
    "\n",
    "# Read the CSV to a pandas DataFrame, combining column 2 (start time)\n",
    "# with column 0 (date), and column 3 (end time) with column 0\n",
    "commutes = pd.read_csv('commutes.csv', parse_dates=[[2, 0], [3, 0]], \n",
    "                       dayfirst=True)\n",
    "commutes.head()"
   ]
  },
  {
   "cell_type": "code",
   "execution_count": 3,
   "metadata": {
    "collapsed": false
   },
   "outputs": [
    {
     "data": {
      "text/plain": [
       "start_date    datetime64[ns]\n",
       "stop_date     datetime64[ns]\n",
       "prediction           float64\n",
       "duration               int64\n",
       "day                   object\n",
       "dtype: object"
      ]
     },
     "execution_count": 3,
     "metadata": {},
     "output_type": "execute_result"
    }
   ],
   "source": [
    "# Check data types.  Note that 'object' actually means 'string'\n",
    "commutes.dtypes"
   ]
  },
  {
   "cell_type": "markdown",
   "metadata": {},
   "source": [
    "Python has a `datetime` type, but not a `time` type alone.  Therefore, we need a way of representing the time of day independently of the date.  We can use a floating point number of hours so 08:30 in the morning is 8.5 hours.  Let us define a function to convert a string of the format `hh:mm:ss` to a floating point number of hours."
   ]
  },
  {
   "cell_type": "code",
   "execution_count": 4,
   "metadata": {
    "collapsed": false
   },
   "outputs": [],
   "source": [
    "def to_hours(dt):\n",
    "    \"\"\"Return floating point number of hours through the day in `datetime` dt.\"\"\"\n",
    "    return dt.hour + dt.minute / 60 + dt.second / 3600\n",
    "\n",
    "\n",
    "# Unit test the to_hours() function\n",
    "import datetime\n",
    "dt = datetime.datetime(2010, 4, 23)  # Dummy date for testing\n",
    "assert to_hours(dt) == 0\n",
    "assert to_hours(dt.replace(hour=1)) == 1\n",
    "assert to_hours(dt.replace(hour=2, minute=30)) == 2.5\n",
    "assert to_hours(dt.replace(minute=15)) == 0.25\n",
    "assert to_hours(dt.replace(second=30)) == 30 / 3600"
   ]
  },
  {
   "cell_type": "code",
   "execution_count": 5,
   "metadata": {
    "collapsed": false
   },
   "outputs": [
    {
     "data": {
      "image/png": "[encoded data removed]",
      "text/plain": [
       "<matplotlib.figure.Figure at 0x1e71eb99a58>"
      ]
     },
     "metadata": {},
     "output_type": "display_data"
    }
   ],
   "source": [
    "# Convert start and stop times to hours\n",
    "commutes['start_hour'] = commutes['start_date'].map(to_hours)\n",
    "commutes['stop_hour'] = commutes['stop_date'].map(to_hours)\n",
    "\n",
    "# Tell the plotting library to plot inline\n",
    "%matplotlib inline\n",
    "import numpy as np\n",
    "\n",
    "# Plot the duration versus start time\n",
    "# ax is the axes object for the chart\n",
    "ax = commutes.plot.scatter('start_hour', 'duration', alpha=0.4)\n",
    "\n",
    "# Set the x axis (start_hour) range from 0 to 24 hours, with a\n",
    "# tick every 2 hours\n",
    "hour_ticks = np.arange(0, 24, 2)\n",
    "ax.xaxis.set_ticks(hour_ticks);"
   ]
  },
  {
   "cell_type": "markdown",
   "metadata": {},
   "source": [
    "The duration axis above is in minutes.\n",
    "\n",
    "##  Is the morning rush hour longer than other commutes?\n",
    "\n",
    "Let us see if the morning rush hour takes longer than other times of the day.  Let us define the morning rush hour as 07:00 to 09:30.\n",
    "\n",
    "We need to categorise the journeys as starting in rush hour or not."
   ]
  },
  {
   "cell_type": "code",
   "execution_count": 6,
   "metadata": {
    "collapsed": false
   },
   "outputs": [
    {
     "data": {
      "image/png": "[encoded data removed]",
      "text/plain": [
       "<matplotlib.figure.Figure at 0x1e71f198518>"
      ]
     },
     "metadata": {},
     "output_type": "display_data"
    }
   ],
   "source": [
    "# Create a mask to select the rush hour rows\n",
    "rush_hour_mask = (commutes['start_hour'] >= 7) & (commutes['start_hour'] < 9.5)\n",
    "\n",
    "# Select just the rush hour rows\n",
    "rush_hour = commutes[rush_hour_mask]\n",
    "\n",
    "# Select just the NOT rush hour rows\n",
    "not_rush_hour = commutes[~rush_hour_mask]\n",
    "\n",
    "# Plot the scatter plot again, but with different colours for rush hour or not\n",
    "import matplotlib.pyplot as plt\n",
    "\n",
    "# fig is short for `figure` and ax is short for `axes`\n",
    "fig, ax = plt.subplots()\n",
    "ax.scatter(rush_hour['start_hour'], rush_hour['duration'], \n",
    "           label='Rush hour', alpha=0.4)\n",
    "\n",
    "ax.scatter(not_rush_hour['start_hour'], not_rush_hour['duration'], \n",
    "           label='Not rush hour', alpha=0.4)\n",
    "\n",
    "ax.xaxis.set_ticks(hour_ticks)\n",
    "ax.legend();"
   ]
  },
  {
   "cell_type": "markdown",
   "metadata": {},
   "source": [
    "We can see above that our selections have correctly identified the rush hour commutes.\n",
    "\n",
    "It might be easier to see the difference between commute durations for rush hour or not using a histogram."
   ]
  },
  {
   "cell_type": "code",
   "execution_count": 7,
   "metadata": {
    "collapsed": false
   },
   "outputs": [
    {
     "data": {
      "image/png": "[encoded data removed]",
      "text/plain": [
       "<matplotlib.figure.Figure at 0x1e71f204f28>"
      ]
     },
     "metadata": {},
     "output_type": "display_data"
    }
   ],
   "source": [
    "fig, ax = plt.subplots()\n",
    "ax.hist(rush_hour['duration'], label='Rush hour', alpha=0.7)\n",
    "ax.hist(not_rush_hour['duration'], label='Not rush hour', alpha=0.7)\n",
    "ax.legend();"
   ]
  },
  {
   "cell_type": "markdown",
   "metadata": {},
   "source": [
    "The histogram is not very helpful from a statistical point of view: we cannot see where the median or other statistical values are.  It may be better to create a box plot.  We could create a box plot by creating a figure and axes, then add a box plot for rush hour and not rush hour.\n",
    "\n",
    "However, a faster way might be to add a column to the `commutes` DataFrame which says whether the commute is rush hour or not, then box plot the `commutes` DataFrame directly."
   ]
  },
  {
   "cell_type": "code",
   "execution_count": 8,
   "metadata": {
    "collapsed": false
   },
   "outputs": [
    {
     "data": {
      "text/html": [
       "<div>\n",
       "<table border=\"1\" class=\"dataframe\">\n",
       "  <thead>\n",
       "    <tr style=\"text-align: right;\">\n",
       "      <th></th>\n",
       "      <th>start_date</th>\n",
       "      <th>stop_date</th>\n",
       "      <th>prediction</th>\n",
       "      <th>duration</th>\n",
       "      <th>day</th>\n",
       "      <th>start_hour</th>\n",
       "      <th>stop_hour</th>\n",
       "      <th>rush_hour</th>\n",
       "    </tr>\n",
       "  </thead>\n",
       "  <tbody>\n",
       "    <tr>\n",
       "      <th>0</th>\n",
       "      <td>2015-08-14 08:02:00</td>\n",
       "      <td>2015-08-14 08:22:00</td>\n",
       "      <td>NaN</td>\n",
       "      <td>20</td>\n",
       "      <td>Fri</td>\n",
       "      <td>8.033333</td>\n",
       "      <td>8.366667</td>\n",
       "      <td>rush hour</td>\n",
       "    </tr>\n",
       "    <tr>\n",
       "      <th>1</th>\n",
       "      <td>2015-08-25 18:16:00</td>\n",
       "      <td>2015-08-25 18:27:00</td>\n",
       "      <td>NaN</td>\n",
       "      <td>11</td>\n",
       "      <td>Tue</td>\n",
       "      <td>18.266667</td>\n",
       "      <td>18.450000</td>\n",
       "      <td>not rush hour</td>\n",
       "    </tr>\n",
       "    <tr>\n",
       "      <th>2</th>\n",
       "      <td>2015-08-26 08:26:00</td>\n",
       "      <td>2015-08-26 08:46:00</td>\n",
       "      <td>NaN</td>\n",
       "      <td>20</td>\n",
       "      <td>Wed</td>\n",
       "      <td>8.433333</td>\n",
       "      <td>8.766667</td>\n",
       "      <td>rush hour</td>\n",
       "    </tr>\n",
       "    <tr>\n",
       "      <th>3</th>\n",
       "      <td>2015-08-26 18:28:00</td>\n",
       "      <td>2015-08-26 18:46:00</td>\n",
       "      <td>NaN</td>\n",
       "      <td>18</td>\n",
       "      <td>Wed</td>\n",
       "      <td>18.466667</td>\n",
       "      <td>18.766667</td>\n",
       "      <td>not rush hour</td>\n",
       "    </tr>\n",
       "    <tr>\n",
       "      <th>4</th>\n",
       "      <td>2015-08-28 08:37:00</td>\n",
       "      <td>2015-08-28 08:52:00</td>\n",
       "      <td>NaN</td>\n",
       "      <td>15</td>\n",
       "      <td>Fri</td>\n",
       "      <td>8.616667</td>\n",
       "      <td>8.866667</td>\n",
       "      <td>rush hour</td>\n",
       "    </tr>\n",
       "  </tbody>\n",
       "</table>\n",
       "</div>"
      ],
      "text/plain": [
       "           start_date           stop_date  prediction  duration  day  \\\n",
       "0 2015-08-14 08:02:00 2015-08-14 08:22:00         NaN        20  Fri   \n",
       "1 2015-08-25 18:16:00 2015-08-25 18:27:00         NaN        11  Tue   \n",
       "2 2015-08-26 08:26:00 2015-08-26 08:46:00         NaN        20  Wed   \n",
       "3 2015-08-26 18:28:00 2015-08-26 18:46:00         NaN        18  Wed   \n",
       "4 2015-08-28 08:37:00 2015-08-28 08:52:00         NaN        15  Fri   \n",
       "\n",
       "   start_hour  stop_hour      rush_hour  \n",
       "0    8.033333   8.366667      rush hour  \n",
       "1   18.266667  18.450000  not rush hour  \n",
       "2    8.433333   8.766667      rush hour  \n",
       "3   18.466667  18.766667  not rush hour  \n",
       "4    8.616667   8.866667      rush hour  "
      ]
     },
     "execution_count": 8,
     "metadata": {},
     "output_type": "execute_result"
    }
   ],
   "source": [
    "# Use the existing `rush_hour_mask` to populate the new `rush_hour` column\n",
    "# with whether the commute is rush hour or not\n",
    "commutes['rush_hour'] = np.where(rush_hour_mask, 'rush hour', 'not rush hour')\n",
    "commutes.head()"
   ]
  },
  {
   "cell_type": "code",
   "execution_count": 9,
   "metadata": {
    "collapsed": false
   },
   "outputs": [
    {
     "data": {
      "image/png": "[encoded data removed]",
      "text/plain": [
       "<matplotlib.figure.Figure at 0x1e71e60cdd8>"
      ]
     },
     "metadata": {},
     "output_type": "display_data"
    }
   ],
   "source": [
    "# Count the number of commutes in each group\n",
    "commutes['rush_hour'].value_counts().plot.bar();"
   ]
  },
  {
   "cell_type": "code",
   "execution_count": 10,
   "metadata": {
    "collapsed": false
   },
   "outputs": [
    {
     "data": {
      "image/png": "[encoded data removed]",
      "text/plain": [
       "<matplotlib.figure.Figure at 0x1e71edfee10>"
      ]
     },
     "metadata": {},
     "output_type": "display_data"
    }
   ],
   "source": [
    "# Boxplot the `duration`, grouped by `rush_hour`\n",
    "commutes.boxplot(column='duration', by='rush_hour');"
   ]
  },
  {
   "cell_type": "markdown",
   "metadata": {},
   "source": [
    "If you are not familiar with reading box plots, this image shows what the symbols mean:\n",
    "\n",
    "![Box plot explanation](http://www.bom.gov.au/water/ssf/faq/boxplot.png \"Box plot explanation\")\n",
    "\n",
    "### Hypothesis test: are rush hour commutes longer than others?\n",
    "\n",
    "The journeys are independent so we shall use the [independent 2 sample t-test](http://en.wikipedia.org/wiki/T-test#Independent_two-sample_t-test).  The null hypothesis is that there is no difference between journey duration in rush hour or not.\n",
    "\n",
    "If the P-value is below a threshold we set, let us say 5% (or 0.05), then we have to reject the null hypthesis and conclude that there is a difference between the journey duration means."
   ]
  },
  {
   "cell_type": "code",
   "execution_count": 11,
   "metadata": {
    "collapsed": false
   },
   "outputs": [
    {
     "data": {
      "text/plain": [
       "Ttest_indResult(statistic=18.573015835352599, pvalue=7.8024306566554162e-56)"
      ]
     },
     "execution_count": 11,
     "metadata": {},
     "output_type": "execute_result"
    }
   ],
   "source": [
    "# Import the t-test function\n",
    "from scipy.stats import ttest_ind\n",
    "\n",
    "ttest_ind(rush_hour['duration'], not_rush_hour['duration'])"
   ]
  },
  {
   "cell_type": "markdown",
   "metadata": {},
   "source": [
    "The P-value is less than 0.05, so we reject the null hypothesis and conclude that rush hour is indeed different to outside rush hour.  We can calculate the means too."
   ]
  },
  {
   "cell_type": "code",
   "execution_count": 12,
   "metadata": {
    "collapsed": false
   },
   "outputs": [
    {
     "name": "stdout",
     "output_type": "stream",
     "text": [
      "Rush hour mean duration 23.02 minutes\n",
      "Non rush hour mean duration 15.02 minutes\n"
     ]
    }
   ],
   "source": [
    "print('Rush hour mean duration {:.2f} minutes'.format(rush_hour['duration'].mean()))\n",
    "print('Non rush hour mean duration {:.2f} minutes'.format(not_rush_hour['duration'].mean()))"
   ]
  },
  {
   "cell_type": "markdown",
   "metadata": {},
   "source": [
    "Is there a trend of journey duration within rush hour?"
   ]
  },
  {
   "cell_type": "code",
   "execution_count": 13,
   "metadata": {
    "collapsed": false
   },
   "outputs": [
    {
     "data": {
      "image/png": "[encoded data removed]",
      "text/plain": [
       "<matplotlib.figure.Figure at 0x1e71f204e80>"
      ]
     },
     "metadata": {},
     "output_type": "display_data"
    }
   ],
   "source": [
    "rush_hour.plot.scatter('start_hour', 'duration');"
   ]
  },
  {
   "cell_type": "markdown",
   "metadata": {},
   "source": [
    "There does not seem to be a particular trend of duration against start time.  It just seems that the worst time to start is between 08:00 and 08:45."
   ]
  },
  {
   "cell_type": "markdown",
   "metadata": {},
   "source": [
    "## Is the morning rush hour drive longer on particular days?"
   ]
  },
  {
   "cell_type": "code",
   "execution_count": 14,
   "metadata": {
    "collapsed": false
   },
   "outputs": [
    {
     "data": {
      "image/png": "[encoded data removed]",
      "text/plain": [
       "<matplotlib.figure.Figure at 0x1e720b04ef0>"
      ]
     },
     "metadata": {},
     "output_type": "display_data"
    }
   ],
   "source": [
    "# Count the number of rush hour commutes in each day\n",
    "rush_hour['day'].value_counts().plot.bar();"
   ]
  },
  {
   "cell_type": "code",
   "execution_count": 15,
   "metadata": {
    "collapsed": false
   },
   "outputs": [
    {
     "data": {
      "image/png": "[encoded data removed]",
      "text/plain": [
       "<matplotlib.figure.Figure at 0x1e720bc6b70>"
      ]
     },
     "metadata": {},
     "output_type": "display_data"
    }
   ],
   "source": [
    "# Group the rush hour commutes by day of the week, then select the `duration` column,\n",
    "# calculate the median for each day, and plot a bar chart\n",
    "rush_hour.groupby('day')['duration'].median().plot.bar();"
   ]
  },
  {
   "cell_type": "markdown",
   "metadata": {},
   "source": [
    "The bar chart of median commute duration shows us that Saturday is faster, then Friday, with the other days being roughly the same.  However, the median is only one measure, so we should create a box plot (below) too.  The box plot makes the bar chart obsolete, but we can leave it here as example code."
   ]
  },
  {
   "cell_type": "code",
   "execution_count": 16,
   "metadata": {
    "collapsed": false
   },
   "outputs": [
    {
     "data": {
      "image/png": "[encoded data removed]",
      "text/plain": [
       "<matplotlib.figure.Figure at 0x1e720c0edd8>"
      ]
     },
     "metadata": {},
     "output_type": "display_data"
    }
   ],
   "source": [
    "# Box plot the rush hour duration by day\n",
    "rush_hour.boxplot(column='duration', by='day');"
   ]
  },
  {
   "cell_type": "markdown",
   "metadata": {},
   "source": [
    "Saturday has the shortest commute, which we might expect.  The Friday commute seems a little faster than other days.\n",
    "\n",
    "## Has the rush hour commute changed over the months?\n",
    "\n",
    "We should resample the rush hour journeys, grouping the start date into months, then take the median duration."
   ]
  },
  {
   "cell_type": "code",
   "execution_count": 17,
   "metadata": {
    "collapsed": false
   },
   "outputs": [
    {
     "data": {
      "image/png": "[encoded data removed]",
      "text/plain": [
       "<matplotlib.figure.Figure at 0x1e720d19080>"
      ]
     },
     "metadata": {},
     "output_type": "display_data"
    }
   ],
   "source": [
    "# Set the index to `start_date` for resampling, then select the `duration` column, then\n",
    "# resample on month end (code `M`)\n",
    "rush_hour_monthly = rush_hour.set_index('start_date')['duration'].resample('M')\n",
    "\n",
    "# Take the median of the `duration`, and plot a bar chart\n",
    "rush_hour_monthly.median().plot.bar();"
   ]
  },
  {
   "cell_type": "markdown",
   "metadata": {},
   "source": [
    "It seems that November has long rush hour drives each year.  December and August are both on the lower end.  December could be explained by many workers using up their annual leave, and August is likely to have low rush hour journey durations due to school holidays."
   ]
  },
  {
   "cell_type": "markdown",
   "metadata": {},
   "source": [
    "## Does leaving early help me get home early?\n",
    "\n",
    "Let us filter the journeys into those around home time (17:00 to 19:00)."
   ]
  },
  {
   "cell_type": "code",
   "execution_count": 18,
   "metadata": {
    "collapsed": false
   },
   "outputs": [
    {
     "data": {
      "image/png": "[encoded data removed]",
      "text/plain": [
       "<matplotlib.figure.Figure at 0x1e720d571d0>"
      ]
     },
     "metadata": {},
     "output_type": "display_data"
    }
   ],
   "source": [
    "evening_mask = (commutes['start_hour'] >= 17) & (commutes['start_hour'] < 19)\n",
    "\n",
    "# Select the rows in evening_mask\n",
    "evening = commutes[evening_mask]\n",
    "evening.plot.scatter('start_hour', 'stop_hour', alpha=0.4);"
   ]
  },
  {
   "cell_type": "markdown",
   "metadata": {},
   "source": [
    "On a couple of occasions, leaving between 17:30 and 17:45 did not get me home much sooner than leaving at about 17:50, but in general it is worth leaving as soon as ready.\n",
    "\n",
    "## Google maps can be used to predict the journey duration.  Is this prediction accurate?\n",
    "\n",
    "We should use a technique like regression.  There are a number of ways that we can visualise or calculate regression in Python:\n",
    "\n",
    "1. Plotting using the `seaborn` package.\n",
    "2. Calculating and plotting using the `numpy.polyfit` function.\n",
    "3. Calculating using the `statsmodels` package.\n",
    "\n",
    "We shall try each of them in turn.\n",
    "\n",
    "### Regression plot using the seaborn package"
   ]
  },
  {
   "cell_type": "code",
   "execution_count": 19,
   "metadata": {
    "collapsed": false
   },
   "outputs": [
    {
     "data": {
      "image/png": "[encoded data removed]",
      "text/plain": [
       "<matplotlib.figure.Figure at 0x1e720b20da0>"
      ]
     },
     "metadata": {},
     "output_type": "display_data"
    }
   ],
   "source": [
    "import seaborn as sns\n",
    "\n",
    "# Reset plot styles\n",
    "sns.reset_orig()\n",
    "\n",
    "# Create a linear model plot\n",
    "sns.lmplot('prediction', 'duration', commutes);"
   ]
  },
  {
   "cell_type": "markdown",
   "metadata": {},
   "source": [
    "The regression line is plotted in dark blue, and the 95% confidence interval for the regression line is plotted in tranlucent blue.  However, we do not know the $R^2$ value for correlation, nor the equation of the line.\n",
    "\n",
    "We shall try the numpy polyfit function.\n",
    "\n",
    "### Regression equation using the polyfit function"
   ]
  },
  {
   "cell_type": "code",
   "execution_count": 20,
   "metadata": {
    "collapsed": false
   },
   "outputs": [
    {
     "data": {
      "text/html": [
       "<div>\n",
       "<table border=\"1\" class=\"dataframe\">\n",
       "  <thead>\n",
       "    <tr style=\"text-align: right;\">\n",
       "      <th></th>\n",
       "      <th>prediction</th>\n",
       "      <th>duration</th>\n",
       "    </tr>\n",
       "  </thead>\n",
       "  <tbody>\n",
       "    <tr>\n",
       "      <th>184</th>\n",
       "      <td>29.0</td>\n",
       "      <td>26</td>\n",
       "    </tr>\n",
       "    <tr>\n",
       "      <th>185</th>\n",
       "      <td>20.0</td>\n",
       "      <td>19</td>\n",
       "    </tr>\n",
       "    <tr>\n",
       "      <th>189</th>\n",
       "      <td>24.0</td>\n",
       "      <td>21</td>\n",
       "    </tr>\n",
       "    <tr>\n",
       "      <th>190</th>\n",
       "      <td>19.0</td>\n",
       "      <td>19</td>\n",
       "    </tr>\n",
       "    <tr>\n",
       "      <th>191</th>\n",
       "      <td>24.0</td>\n",
       "      <td>19</td>\n",
       "    </tr>\n",
       "  </tbody>\n",
       "</table>\n",
       "</div>"
      ],
      "text/plain": [
       "     prediction  duration\n",
       "184        29.0        26\n",
       "185        20.0        19\n",
       "189        24.0        21\n",
       "190        19.0        19\n",
       "191        24.0        19"
      ]
     },
     "execution_count": 20,
     "metadata": {},
     "output_type": "execute_result"
    }
   ],
   "source": [
    "# Create a copy of the commutes and remove commutes with no prediction\n",
    "# because numpy.polyfit raises an error if there are NaNs (NaN = not a number)\n",
    "predictions = commutes[['prediction', 'duration']].copy().dropna()\n",
    "predictions.head()"
   ]
  },
  {
   "cell_type": "code",
   "execution_count": 21,
   "metadata": {
    "collapsed": false
   },
   "outputs": [
    {
     "name": "stdout",
     "output_type": "stream",
     "text": [
      "Gradient: 1.401; intercept: -9.215\n"
     ]
    },
    {
     "data": {
      "image/png": "[encoded data removed]",
      "text/plain": [
       "<matplotlib.figure.Figure at 0x1e720ef0d30>"
      ]
     },
     "metadata": {},
     "output_type": "display_data"
    }
   ],
   "source": [
    "def plot_regression(x, y, gradient, intercept):\n",
    "    \"\"\"Plot the scatter of x and y data and the regression line.\"\"\"\n",
    "    # Create a new figure and axes\n",
    "    fig, ax = plt.subplots()\n",
    "    \n",
    "    # Plot the scatter of data points\n",
    "    ax.scatter(x, y, alpha=0.4)\n",
    "    \n",
    "    # Create an array of start values from the minimum to maximum to create the regression line\n",
    "    X = np.linspace(x.min(), x.max())\n",
    "\n",
    "    # Plot the regression line\n",
    "    ax.plot(X, gradient * X + intercept, label='Regression line of duration')\n",
    "\n",
    "    # Plot the line of perfect prediction\n",
    "    ax.plot(X, X, 'g--', label='Perfect prediction of duration')\n",
    "    ax.legend()\n",
    "    return ax\n",
    "\n",
    "\n",
    "x = predictions['prediction']\n",
    "y = predictions['duration']\n",
    "\n",
    "# Calcuate the gradient and intercept of the regression line from a least-squares fit\n",
    "# of a 1-order polynomial\n",
    "gradient, intercept = np.polyfit(x, y, 1)\n",
    "\n",
    "# Plot the regression line\n",
    "plot_regression(x, y, gradient, intercept)\n",
    "\n",
    "# Print the regression line parameters\n",
    "print('Gradient: {:.3f}; intercept: {:.3f}'.format(gradient, intercept))"
   ]
  },
  {
   "cell_type": "markdown",
   "metadata": {},
   "source": [
    "If the prediction was very good, we would see a gradient of 1 and an intercept of 0 minutes.  We actually see that the prediction overestimates commutes under about 23 minutes, but underestimates commutes over about 23 minutes.\n",
    "\n",
    "For completeness, we shall use the statsmodels package to calculate the regression.\n",
    "\n",
    "### Regression using the statsmodels package"
   ]
  },
  {
   "cell_type": "code",
   "execution_count": 22,
   "metadata": {
    "collapsed": false
   },
   "outputs": [
    {
     "data": {
      "text/html": [
       "<table class=\"simpletable\">\n",
       "<caption>OLS Regression Results</caption>\n",
       "<tr>\n",
       "  <th>Dep. Variable:</th>        <td>duration</td>     <th>  R-squared:         </th> <td>   0.680</td>\n",
       "</tr>\n",
       "<tr>\n",
       "  <th>Model:</th>                   <td>OLS</td>       <th>  Adj. R-squared:    </th> <td>   0.678</td>\n",
       "</tr>\n",
       "<tr>\n",
       "  <th>Method:</th>             <td>Least Squares</td>  <th>  F-statistic:       </th> <td>   441.4</td>\n",
       "</tr>\n",
       "<tr>\n",
       "  <th>Date:</th>             <td>Sun, 26 Feb 2017</td> <th>  Prob (F-statistic):</th> <td>2.54e-53</td>\n",
       "</tr>\n",
       "<tr>\n",
       "  <th>Time:</th>                 <td>15:54:49</td>     <th>  Log-Likelihood:    </th> <td> -538.14</td>\n",
       "</tr>\n",
       "<tr>\n",
       "  <th>No. Observations:</th>      <td>   210</td>      <th>  AIC:               </th> <td>   1080.</td>\n",
       "</tr>\n",
       "<tr>\n",
       "  <th>Df Residuals:</th>          <td>   208</td>      <th>  BIC:               </th> <td>   1087.</td>\n",
       "</tr>\n",
       "<tr>\n",
       "  <th>Df Model:</th>              <td>     1</td>      <th>                     </th>     <td> </td>   \n",
       "</tr>\n",
       "<tr>\n",
       "  <th>Covariance Type:</th>      <td>nonrobust</td>    <th>                     </th>     <td> </td>   \n",
       "</tr>\n",
       "</table>\n",
       "<table class=\"simpletable\">\n",
       "<tr>\n",
       "       <td></td>         <th>coef</th>     <th>std err</th>      <th>t</th>      <th>P>|t|</th> <th>[95.0% Conf. Int.]</th> \n",
       "</tr>\n",
       "<tr>\n",
       "  <th>const</th>      <td>   -9.2150</td> <td>    1.355</td> <td>   -6.802</td> <td> 0.000</td> <td>  -11.886    -6.544</td>\n",
       "</tr>\n",
       "<tr>\n",
       "  <th>prediction</th> <td>    1.4006</td> <td>    0.067</td> <td>   21.009</td> <td> 0.000</td> <td>    1.269     1.532</td>\n",
       "</tr>\n",
       "</table>\n",
       "<table class=\"simpletable\">\n",
       "<tr>\n",
       "  <th>Omnibus:</th>       <td>20.395</td> <th>  Durbin-Watson:     </th> <td>   2.105</td>\n",
       "</tr>\n",
       "<tr>\n",
       "  <th>Prob(Omnibus):</th> <td> 0.000</td> <th>  Jarque-Bera (JB):  </th> <td>  24.870</td>\n",
       "</tr>\n",
       "<tr>\n",
       "  <th>Skew:</th>          <td> 0.688</td> <th>  Prob(JB):          </th> <td>3.98e-06</td>\n",
       "</tr>\n",
       "<tr>\n",
       "  <th>Kurtosis:</th>      <td> 3.974</td> <th>  Cond. No.          </th> <td>    127.</td>\n",
       "</tr>\n",
       "</table>"
      ],
      "text/plain": [
       "<class 'statsmodels.iolib.summary.Summary'>\n",
       "\"\"\"\n",
       "                            OLS Regression Results                            \n",
       "==============================================================================\n",
       "Dep. Variable:               duration   R-squared:                       0.680\n",
       "Model:                            OLS   Adj. R-squared:                  0.678\n",
       "Method:                 Least Squares   F-statistic:                     441.4\n",
       "Date:                Sun, 26 Feb 2017   Prob (F-statistic):           2.54e-53\n",
       "Time:                        15:54:49   Log-Likelihood:                -538.14\n",
       "No. Observations:                 210   AIC:                             1080.\n",
       "Df Residuals:                     208   BIC:                             1087.\n",
       "Df Model:                           1                                         \n",
       "Covariance Type:            nonrobust                                         \n",
       "==============================================================================\n",
       "                 coef    std err          t      P>|t|      [95.0% Conf. Int.]\n",
       "------------------------------------------------------------------------------\n",
       "const         -9.2150      1.355     -6.802      0.000       -11.886    -6.544\n",
       "prediction     1.4006      0.067     21.009      0.000         1.269     1.532\n",
       "==============================================================================\n",
       "Omnibus:                       20.395   Durbin-Watson:                   2.105\n",
       "Prob(Omnibus):                  0.000   Jarque-Bera (JB):               24.870\n",
       "Skew:                           0.688   Prob(JB):                     3.98e-06\n",
       "Kurtosis:                       3.974   Cond. No.                         127.\n",
       "==============================================================================\n",
       "\n",
       "Warnings:\n",
       "[1] Standard Errors assume that the covariance matrix of the errors is correctly specified.\n",
       "\"\"\""
      ]
     },
     "execution_count": 22,
     "metadata": {},
     "output_type": "execute_result"
    }
   ],
   "source": [
    "import statsmodels.api as sm\n",
    "\n",
    "fit = sm.OLS(y, sm.add_constant(x)).fit()\n",
    "fit.summary()"
   ]
  },
  {
   "cell_type": "code",
   "execution_count": 23,
   "metadata": {
    "collapsed": false
   },
   "outputs": [
    {
     "data": {
      "image/png": "[encoded data removed]",
      "text/plain": [
       "<matplotlib.figure.Figure at 0x1e720cb4eb8>"
      ]
     },
     "metadata": {},
     "output_type": "display_data"
    }
   ],
   "source": [
    "# Plot the scatter of data points\n",
    "plot_regression(x, y, fit.params['prediction'], fit.params['const']);"
   ]
  },
  {
   "cell_type": "markdown",
   "metadata": {},
   "source": [
    "## Summary\n",
    "\n",
    "We can now answer the original questions:\n",
    "\n",
    "1. Is the morning rush hour longer than other commutes?\n",
    " - Yes.  Rush hour has a mean of 23 minutes compared to 15 minutes outside rush hour.\n",
    "2. Is the morning rush hour drive longer on particular days?\n",
    " - Yes. Saturday is the shortest commute, then Friday.  The other days are longer than those and similar to one another.\n",
    "3. Has the rush hour commute changed over the months?\n",
    " - November has long rush hour drives each year.  December and August are both on the lower end.\n",
    "4. Does leaving early help me get home early?\n",
    " - Yes.\n",
    "5. Google maps can be used to predict the journey duration.  Is this prediction accurate?\n",
    " - The prediction is not bad. It overestimates commutes under about 23 minutes, but underestimates commutes over about 23 minutes.\n",
    " \n",
    "## Future work\n",
    "\n",
    "Further work could include:\n",
    "\n",
    "1. Calculate the confidence interval on predictions from Google Maps.\n",
    "2. Calculate the effect of road works which started on 2017-02-20, and which should only affect the rush hour commute.\n",
    "\n",
    "## Comparison with Excel\n",
    "\n",
    "We often have the choice of whether to conduct analyses like this in Microsoft Excel or Python.  The experience of writing the above analysis has suggested that we should use Excel when:\n",
    "\n",
    "- The data set is relatively short (less than a few thousand rows, for speed reasons); and\n",
    "- The analysis is a 'one-off'.  That is, it does not need to be repeated when new data are available; and\n",
    "- The data are contained in only one or a very small number of files (because manual manipulation of many files is tedious and error-prone); and\n",
    "- No advanced data manipulations are required, such as resampling by date.\n",
    "\n",
    "We should use Python when one or more of the above are not true.\n",
    "\n",
    "## Appendix\n",
    "\n",
    "Print the date and software version numbers."
   ]
  },
  {
   "cell_type": "code",
   "execution_count": 24,
   "metadata": {
    "collapsed": false
   },
   "outputs": [
    {
     "name": "stdout",
     "output_type": "stream",
     "text": [
      "Last modified 2017-02-26\n",
      "Python 3.5.2 |Anaconda 4.3.0 (64-bit)| (default, Jul  5 2016, 11:41:13) [MSC v.1900 64 bit (AMD64)]\n",
      "pandas 0.19.2\n",
      "numpy 1.11.3\n",
      "matplotlib 2.0.0\n",
      "statsmodels 0.6.1\n"
     ]
    }
   ],
   "source": [
    "import sys\n",
    "import matplotlib as mpl\n",
    "import statsmodels\n",
    "\n",
    "print('Last modified',datetime.date.today())\n",
    "\n",
    "print('Python', sys.version)\n",
    "\n",
    "for package in (pd, np, mpl, statsmodels):\n",
    "    print(package.__name__, package.__version__)"
   ]
  },
  {
   "cell_type": "markdown",
   "metadata": {},
   "source": [
    "## Licence\n",
    "\n",
    "This document is public domain."
   ]
  }
 ],
 "metadata": {
  "kernelspec": {
   "display_name": "Python 3",
   "language": "python",
   "name": "python3"
  },
  "language_info": {
   "codemirror_mode": {
    "name": "ipython",
    "version": 3
   },
   "file_extension": ".py",
   "mimetype": "text/x-python",
   "name": "python",
   "nbconvert_exporter": "python",
   "pygments_lexer": "ipython3",
   "version": "3.5.2"
  }
 },
 "nbformat": 4,
 "nbformat_minor": 0
}
